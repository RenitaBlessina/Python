{
 "cells": [
  {
   "cell_type": "code",
   "execution_count": 1,
   "metadata": {},
   "outputs": [
    {
     "name": "stdout",
     "output_type": "stream",
     "text": [
      "['Regi', 'Timo', 'Renuga']\n"
     ]
    }
   ],
   "source": [
    "friends = [ 'Regi', 'Timo', 'Renuga' ]\n",
    "print(friends)"
   ]
  },
  {
   "cell_type": "code",
   "execution_count": 2,
   "metadata": {},
   "outputs": [
    {
     "name": "stdout",
     "output_type": "stream",
     "text": [
      "[1, [5, 6], 7]\n"
     ]
    }
   ],
   "source": [
    "print([ 1, [5, 6], 7])"
   ]
  },
  {
   "cell_type": "code",
   "execution_count": 3,
   "metadata": {},
   "outputs": [
    {
     "name": "stdout",
     "output_type": "stream",
     "text": [
      "5\n",
      "4\n",
      "3\n",
      "2\n",
      "1\n",
      "Blastoff!\n"
     ]
    }
   ],
   "source": [
    "for i in [5, 4, 3, 2, 1] :\n",
    "    print(i)\n",
    "print('Blastoff!')\n"
   ]
  },
  {
   "cell_type": "code",
   "execution_count": 4,
   "metadata": {},
   "outputs": [
    {
     "name": "stdout",
     "output_type": "stream",
     "text": [
      "Happy to meet: Regi\n",
      "Happy to meet: Timo\n",
      "Happy to meet: Renuga\n",
      "Done!\n"
     ]
    }
   ],
   "source": [
    "friends = ['Regi', 'Timo', 'Renuga']\n",
    "for friend in friends :\n",
    "    print('Happy to meet:',  friend)\n",
    "print('Done!')\n"
   ]
  },
  {
   "cell_type": "code",
   "execution_count": 5,
   "metadata": {},
   "outputs": [
    {
     "name": "stdout",
     "output_type": "stream",
     "text": [
      "Timo\n"
     ]
    }
   ],
   "source": [
    "friends = ['Regi', 'Timo', 'Renuga']\n",
    "print(friends[1])"
   ]
  },
  {
   "cell_type": "code",
   "execution_count": 6,
   "metadata": {},
   "outputs": [
    {
     "name": "stdout",
     "output_type": "stream",
     "text": [
      "[2, 20, 3, 30, 40, 50]\n",
      "[2, 20, 70, 30, 40, 50]\n"
     ]
    }
   ],
   "source": [
    "#list are muttable\n",
    "lotto = [2,20,3,30,40,50]\n",
    "print (lotto)\n",
    "lotto[2]=70\n",
    "print (lotto)"
   ]
  },
  {
   "cell_type": "code",
   "execution_count": 7,
   "metadata": {},
   "outputs": [
    {
     "name": "stdout",
     "output_type": "stream",
     "text": [
      "4\n"
     ]
    }
   ],
   "source": [
    "x = [ 1, 2, 'daph', 99]\n",
    "print(len(x))\n"
   ]
  },
  {
   "cell_type": "code",
   "execution_count": 8,
   "metadata": {},
   "outputs": [
    {
     "name": "stdout",
     "output_type": "stream",
     "text": [
      "range(0, 4)\n"
     ]
    }
   ],
   "source": [
    "print(range(len(x)))"
   ]
  },
  {
   "cell_type": "code",
   "execution_count": 9,
   "metadata": {},
   "outputs": [
    {
     "name": "stdout",
     "output_type": "stream",
     "text": [
      "Happy New Year: Regi\n",
      "Happy New Year: Timo\n",
      "Happy New Year: Renuga\n"
     ]
    }
   ],
   "source": [
    "for i in range(len(friends)) :\n",
    "    friend = friends[i]\n",
    "    print('Happy New Year:',  friend)\n"
   ]
  },
  {
   "cell_type": "code",
   "execution_count": 10,
   "metadata": {},
   "outputs": [
    {
     "name": "stdout",
     "output_type": "stream",
     "text": [
      "[1, 2, 3, 4, 5, 6]\n"
     ]
    }
   ],
   "source": [
    "#concatenating\n",
    "a = [1, 2, 3]\n",
    "b = [4, 5, 6]\n",
    "c = a + b\n",
    "print(c)\n"
   ]
  },
  {
   "cell_type": "code",
   "execution_count": 11,
   "metadata": {},
   "outputs": [
    {
     "name": "stdout",
     "output_type": "stream",
     "text": [
      "[41, 12]\n",
      "[9, 41, 12, 3]\n",
      "[3, 74, 15]\n",
      "[9, 41, 12, 3, 74, 15]\n"
     ]
    }
   ],
   "source": [
    "#slicing\n",
    "t = [9, 41, 12, 3, 74, 15]\n",
    "print(t[1:3])\n",
    "print(t[:4])\n",
    "print(t[3:])\n",
    "print(t[:])"
   ]
  },
  {
   "cell_type": "code",
   "execution_count": 12,
   "metadata": {},
   "outputs": [
    {
     "data": {
      "text/plain": [
       "list"
      ]
     },
     "execution_count": 12,
     "metadata": {},
     "output_type": "execute_result"
    }
   ],
   "source": [
    "#list methods\n",
    "x = list()\n",
    "type(x)\n"
   ]
  },
  {
   "cell_type": "code",
   "execution_count": 13,
   "metadata": {},
   "outputs": [
    {
     "data": {
      "text/plain": [
       "['__add__',\n",
       " '__class__',\n",
       " '__contains__',\n",
       " '__delattr__',\n",
       " '__delitem__',\n",
       " '__dir__',\n",
       " '__doc__',\n",
       " '__eq__',\n",
       " '__format__',\n",
       " '__ge__',\n",
       " '__getattribute__',\n",
       " '__getitem__',\n",
       " '__gt__',\n",
       " '__hash__',\n",
       " '__iadd__',\n",
       " '__imul__',\n",
       " '__init__',\n",
       " '__init_subclass__',\n",
       " '__iter__',\n",
       " '__le__',\n",
       " '__len__',\n",
       " '__lt__',\n",
       " '__mul__',\n",
       " '__ne__',\n",
       " '__new__',\n",
       " '__reduce__',\n",
       " '__reduce_ex__',\n",
       " '__repr__',\n",
       " '__reversed__',\n",
       " '__rmul__',\n",
       " '__setattr__',\n",
       " '__setitem__',\n",
       " '__sizeof__',\n",
       " '__str__',\n",
       " '__subclasshook__',\n",
       " 'append',\n",
       " 'clear',\n",
       " 'copy',\n",
       " 'count',\n",
       " 'extend',\n",
       " 'index',\n",
       " 'insert',\n",
       " 'pop',\n",
       " 'remove',\n",
       " 'reverse',\n",
       " 'sort']"
      ]
     },
     "execution_count": 13,
     "metadata": {},
     "output_type": "execute_result"
    }
   ],
   "source": [
    "dir(x)"
   ]
  },
  {
   "cell_type": "code",
   "execution_count": 15,
   "metadata": {},
   "outputs": [
    {
     "name": "stdout",
     "output_type": "stream",
     "text": [
      "['book', 99]\n",
      "['book', 99, 'cookie']\n"
     ]
    }
   ],
   "source": [
    "stuff = list()\n",
    "stuff.append('book')\n",
    "stuff.append(99)\n",
    "print(stuff)\n",
    "stuff.append('cookie')\n",
    "print(stuff)"
   ]
  },
  {
   "cell_type": "code",
   "execution_count": 16,
   "metadata": {},
   "outputs": [
    {
     "data": {
      "text/plain": [
       "True"
      ]
     },
     "execution_count": 16,
     "metadata": {},
     "output_type": "execute_result"
    }
   ],
   "source": [
    "nos = [1, 5, 7, 9, 4, 5, 12]\n",
    "7 in nos"
   ]
  },
  {
   "cell_type": "code",
   "execution_count": 17,
   "metadata": {},
   "outputs": [
    {
     "data": {
      "text/plain": [
       "False"
      ]
     },
     "execution_count": 17,
     "metadata": {},
     "output_type": "execute_result"
    }
   ],
   "source": [
    "14 in nos"
   ]
  },
  {
   "cell_type": "code",
   "execution_count": 18,
   "metadata": {},
   "outputs": [
    {
     "name": "stdout",
     "output_type": "stream",
     "text": [
      "['Regi', 'Renuga', 'Timo']\n"
     ]
    }
   ],
   "source": [
    "friends = [ 'Regi', 'Timo' ,'Renuga']\n",
    "friends.sort()\n",
    "print(friends)"
   ]
  },
  {
   "cell_type": "code",
   "execution_count": 19,
   "metadata": {},
   "outputs": [
    {
     "name": "stdout",
     "output_type": "stream",
     "text": [
      "6\n",
      "74\n",
      "3\n",
      "154\n",
      "25.666666666666668\n"
     ]
    }
   ],
   "source": [
    "nums = [3, 41, 12, 9, 74, 15]\n",
    "print(len(nums))\n",
    "print(max(nums))\n",
    "print(min(nums))\n",
    "print(sum(nums))\n",
    "print(sum(nums)/len(nums))"
   ]
  },
  {
   "cell_type": "code",
   "execution_count": 20,
   "metadata": {},
   "outputs": [
    {
     "name": "stdout",
     "output_type": "stream",
     "text": [
      "Enter a number: 3\n",
      "Enter a number: 6\n",
      "Enter a number: 9\n",
      "Enter a number: 12\n",
      "Enter a number: 15\n",
      "Enter a number: done\n",
      "Average: 9.0\n"
     ]
    }
   ],
   "source": [
    "numlist = list()\n",
    "while True :\n",
    "    inp = input('Enter a number: ')\n",
    "    if inp == 'done' : break\n",
    "    value = float(inp)\n",
    "    numlist.append(value)\n",
    "\n",
    "average = sum(numlist) / len(numlist)\n",
    "print('Average:', average)\n"
   ]
  },
  {
   "cell_type": "code",
   "execution_count": 21,
   "metadata": {},
   "outputs": [
    {
     "name": "stdout",
     "output_type": "stream",
     "text": [
      "['With', 'three', 'friends']\n"
     ]
    }
   ],
   "source": [
    "#split breaks string into parts and produces a list of strings\n",
    "abc = 'With three friends'\n",
    "stuff = abc.split()\n",
    "print(stuff)\n"
   ]
  },
  {
   "cell_type": "code",
   "execution_count": 24,
   "metadata": {},
   "outputs": [
    {
     "name": "stdout",
     "output_type": "stream",
     "text": [
      "['srenitablessina', 'gmail.com']\n"
     ]
    }
   ],
   "source": [
    "#double split\n",
    "line='From srenitablessina@gmail.com Tue Sep  1 09:14:16 2020'\n",
    "words = line.split()\n",
    "email = words[1]\n",
    "pieces = email.split('@')\n",
    "print(pieces)\n",
    "\n",
    "\n"
   ]
  },
  {
   "cell_type": "code",
   "execution_count": null,
   "metadata": {},
   "outputs": [],
   "source": []
  }
 ],
 "metadata": {
  "kernelspec": {
   "display_name": "Python 3",
   "language": "python",
   "name": "python3"
  },
  "language_info": {
   "codemirror_mode": {
    "name": "ipython",
    "version": 3
   },
   "file_extension": ".py",
   "mimetype": "text/x-python",
   "name": "python",
   "nbconvert_exporter": "python",
   "pygments_lexer": "ipython3",
   "version": "3.8.3"
  }
 },
 "nbformat": 4,
 "nbformat_minor": 4
}
