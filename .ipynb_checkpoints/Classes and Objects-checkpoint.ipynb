{
 "cells": [
  {
   "cell_type": "code",
   "execution_count": 1,
   "metadata": {},
   "outputs": [],
   "source": [
    "#1. create class\n",
    "\n",
    "class Maths:\n",
    "    x=5"
   ]
  },
  {
   "cell_type": "code",
   "execution_count": 2,
   "metadata": {},
   "outputs": [
    {
     "name": "stdout",
     "output_type": "stream",
     "text": [
      "5\n"
     ]
    }
   ],
   "source": [
    "#2.create object\n",
    "\n",
    "a=Maths()\n",
    "print(a.x)"
   ]
  },
  {
   "cell_type": "code",
   "execution_count": 4,
   "metadata": {},
   "outputs": [
    {
     "name": "stdout",
     "output_type": "stream",
     "text": [
      "Reni\n",
      "20\n"
     ]
    }
   ],
   "source": [
    "#3.__init__ funtion\n",
    "\n",
    "class Details:\n",
    "    def __init__(self,name,age):\n",
    "        self.name=name\n",
    "        self.age=age\n",
    "        \n",
    "a=Details(\"Reni\",20)\n",
    "print(a.name)\n",
    "print(a.age)"
   ]
  },
  {
   "cell_type": "code",
   "execution_count": 5,
   "metadata": {},
   "outputs": [
    {
     "name": "stdout",
     "output_type": "stream",
     "text": [
      "Hello my name is Reni\n"
     ]
    }
   ],
   "source": [
    "# 4.object method\n",
    "\n",
    "class Details:\n",
    "    def __init__(self,name,age):\n",
    "        self.name=name\n",
    "        self.age=age\n",
    "    \n",
    "    def myname(self):\n",
    "         print(\"Hello my name is \" + self.name)\n",
    "        \n",
    "a=Details(\"Reni\",20)\n",
    "a.myname()"
   ]
  },
  {
   "cell_type": "code",
   "execution_count": 6,
   "metadata": {},
   "outputs": [
    {
     "name": "stdout",
     "output_type": "stream",
     "text": [
      "Renita\n"
     ]
    }
   ],
   "source": [
    "\n",
    "class Details:\n",
    "    def __init__(self,name,age):\n",
    "        self.name=name\n",
    "        self.age=age\n",
    "    \n",
    "    def myname(self):\n",
    "         print(\"Hello my name is \" , self.name)\n",
    "            \n",
    "a=Details(\"Reni\",21)\n",
    "a.name=\"Renita\"\n",
    "print(a.name)"
   ]
  },
  {
   "cell_type": "code",
   "execution_count": 7,
   "metadata": {},
   "outputs": [
    {
     "name": "stdout",
     "output_type": "stream",
     "text": [
      "Hello my name is  Daph\n"
     ]
    }
   ],
   "source": [
    "#6.create a child class\n",
    "\n",
    "class Student(Details):\n",
    "    pass\n",
    "b=Student(\"Daph\",17)\n",
    "b.myname()"
   ]
  },
  {
   "cell_type": "code",
   "execution_count": 8,
   "metadata": {},
   "outputs": [
    {
     "data": {
      "text/plain": [
       "'Reni'"
      ]
     },
     "execution_count": 8,
     "metadata": {},
     "output_type": "execute_result"
    }
   ],
   "source": [
    "#7.init function()\n",
    "\n",
    "class Student(Details):\n",
    "  def __init__(self, name, age):\n",
    "    Details.__init__(self, name, age)\n",
    "\n",
    "b=Student(\"Reni\",20)\n",
    "b.name"
   ]
  },
  {
   "cell_type": "code",
   "execution_count": null,
   "metadata": {},
   "outputs": [],
   "source": []
  }
 ],
 "metadata": {
  "kernelspec": {
   "display_name": "Python 3",
   "language": "python",
   "name": "python3"
  },
  "language_info": {
   "codemirror_mode": {
    "name": "ipython",
    "version": 3
   },
   "file_extension": ".py",
   "mimetype": "text/x-python",
   "name": "python",
   "nbconvert_exporter": "python",
   "pygments_lexer": "ipython3",
   "version": "3.8.3"
  }
 },
 "nbformat": 4,
 "nbformat_minor": 4
}
